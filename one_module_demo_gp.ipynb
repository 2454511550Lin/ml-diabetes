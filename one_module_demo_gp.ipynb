{
 "cells": [
  {
   "cell_type": "code",
   "execution_count": 1,
   "metadata": {},
   "outputs": [
    {
     "data": {
      "text/plain": [
       "((441, 764), (50, 764), (441, 4), (50, 4))"
      ]
     },
     "execution_count": 1,
     "metadata": {},
     "output_type": "execute_result"
    }
   ],
   "source": [
    "import pickle\n",
    "import pandas as pd\n",
    "import sklearn\n",
    "import numpy as np\n",
    "import scipy\n",
    "# load the dic file\n",
    "\n",
    "from utils import *\n",
    "\n",
    "path = 'cleaned/module_dict.pickle'\n",
    "with open(path, 'rb') as f:\n",
    "    module_dict = pickle.load(f)\n",
    "\n",
    "tissues = ['islet', 'liver', 'adipose', 'kidney', 'gastroc']\n",
    "signs = ['SIGNED', 'UNSIGNED']\n",
    "\n",
    "X_train, X_test, Y_train, Y_test = get_data('islet','SIGNED','red')\n",
    "\n",
    "# print the shape of training / testing\n",
    "X_train.shape,X_test.shape,Y_train.shape,Y_test.shape"
   ]
  },
  {
   "cell_type": "code",
   "execution_count": 3,
   "metadata": {},
   "outputs": [],
   "source": [
    "from sklearn.gaussian_process import GaussianProcessRegressor\n",
    "from sklearn.gaussian_process.kernels import RBF, ConstantKernel as C, Matern, RationalQuadratic, DotProduct\n",
    "from sklearn.model_selection import GridSearchCV\n",
    "\n",
    "from sklearn.preprocessing import StandardScaler\n",
    "\n",
    "# Define the kernel for Gaussian Process\n",
    "\n",
    "# Initialize the scaler\n",
    "scaler_X = StandardScaler().fit(X_train)\n",
    "\n",
    "# Apply the transformation\n",
    "X_train_norm = scaler_X.transform(X_train)\n",
    "X_test_norm = scaler_X.transform(X_test)"
   ]
  },
  {
   "cell_type": "code",
   "execution_count": 22,
   "metadata": {},
   "outputs": [
    {
     "name": "stdout",
     "output_type": "stream",
     "text": [
      "Fitting 3 folds for each of 6 candidates, totalling 18 fits\n"
     ]
    }
   ],
   "source": [
    "\n",
    "\n",
    "\n",
    "# Radial basis function (RBF) kernel\n",
    "kernel_rbf = C(1.0, (1e-5, 1e3)) * RBF(length_scale_bounds = (1e-5, 1e2))\n",
    "\n",
    "# Matérn kernel with different gamma & length-scale parameter\n",
    "# The Matern kernel's nu parameter is equivalent to its smoothness. Higher values make it more similar to the RBF kernel. \n",
    "# Let's use nu = [0.5, 1.5, 2.5, 3.5] to capture different degrees of smoothness.\n",
    "kernels_matern = [C(1.0, (1e-5, 1e3)) * Matern(length_scale_bounds= (1e-5, 1e2), nu= n) for n in [0.5, 1.5, 2.5]]\n",
    "\n",
    "# Rational quadratic kernel with different alpha (scale mixture parameter) & length-scale parameters\n",
    "kernel_rq = C(1.0, (1e-5, 1e3)) * RationalQuadratic(alpha_bounds=(1e-5, 1e3), length_scale_bounds=(1e-5, 1e2))\n",
    "\n",
    "# Dot-Product kernel (we can combine it with exponential kernel, but for simplicity, let's just define it for now)\n",
    "kernel_dotproduct = C(1.0, (1e-5, 1e3)) * DotProduct(sigma_0_bounds=(1e-5, 1e2))\n",
    "\n",
    "all_kernels = [kernel_rbf] + kernels_matern + [kernel_rq, kernel_dotproduct]\n",
    "\n",
    "param_grid = {\n",
    "    \"kernel\": all_kernels,\n",
    "    \"alpha\": [0.1]}\n",
    "\n",
    "# Initialize GP Regressor\n",
    "model = GaussianProcessRegressor(n_restarts_optimizer=1,normalize_y=True,random_state=0)\n",
    "\n",
    "# Initialize GridSearchCV\n",
    "gsh = GridSearchCV(estimator=model, param_grid=param_grid, cv=3, scoring='neg_mean_squared_error',verbose = 1,n_jobs=-1)  # or another suitable scoring method\n",
    "\n",
    "gsh.fit(X_train, Y_train)\n",
    "\n",
    "# Best model\n",
    "best_gp = gsh.best_estimator_\n",
    "\n",
    "# Predictions\n",
    "Y_pred = best_gp.predict(X_test)"
   ]
  },
  {
   "cell_type": "code",
   "execution_count": 6,
   "metadata": {},
   "outputs": [
    {
     "data": {
      "text/plain": [
       "{'mean_fit_time': array([ 2.81688819,  3.48648472, 12.7392971 ,  2.68929672,  2.98889132,\n",
       "         5.1936305 ,  6.42164869,  1.51656566,  3.15341759,  3.74115667,\n",
       "         7.66977491,  2.88051481,  4.9195364 ,  5.14299197,  5.76226034,\n",
       "         2.77930937,  3.67322326,  4.97261324,  6.17258501,  2.73676047,\n",
       "         4.18425183,  4.55506968, 13.75398393,  2.58870177]),\n",
       " 'std_fit_time': array([0.60072254, 0.44581943, 5.21006613, 0.76424466, 1.0406368 ,\n",
       "        1.67568046, 1.68578322, 0.12773951, 0.79516354, 1.01488913,\n",
       "        2.56645157, 0.16014535, 0.93582493, 1.2067051 , 2.03723931,\n",
       "        0.13410357, 0.64970736, 0.78725622, 1.25593428, 0.11610897,\n",
       "        1.73951219, 1.16670954, 2.5270979 , 0.08369337]),\n",
       " 'mean_score_time': array([0.02125425, 0.02103095, 0.02974672, 0.00811858, 0.02343907,\n",
       "        0.02320442, 0.02042432, 0.00482073, 0.0217833 , 0.02130485,\n",
       "        0.02430539, 0.00823188, 0.02854357, 0.02730689, 0.02758126,\n",
       "        0.00822463, 0.02814889, 0.02736082, 0.02760239, 0.00799727,\n",
       "        0.02877026, 0.02873931, 0.02729807, 0.00871925]),\n",
       " 'std_score_time': array([0.00200352, 0.00080736, 0.00155337, 0.003121  , 0.0034319 ,\n",
       "        0.00293375, 0.00046444, 0.00039241, 0.0011948 , 0.00038996,\n",
       "        0.00434306, 0.00096658, 0.00149227, 0.00171378, 0.00092774,\n",
       "        0.0009615 , 0.00047475, 0.00221154, 0.00137047, 0.00089371,\n",
       "        0.00098338, 0.0003912 , 0.00087054, 0.00109389]),\n",
       " 'param_alpha': masked_array(data=[1e-18, 1e-18, 1e-18, 1e-18, 1e-06, 1e-06, 1e-06, 1e-06,\n",
       "                    0.0001, 0.0001, 0.0001, 0.0001, 0.01, 0.01, 0.01, 0.01,\n",
       "                    0.1, 0.1, 0.1, 0.1, 1, 1, 1, 1],\n",
       "              mask=[False, False, False, False, False, False, False, False,\n",
       "                    False, False, False, False, False, False, False, False,\n",
       "                    False, False, False, False, False, False, False, False],\n",
       "        fill_value='?',\n",
       "             dtype=object),\n",
       " 'param_kernel': masked_array(data=[1**2 * RBF(length_scale=1),\n",
       "                    1**2 * Matern(length_scale=1, nu=1.5),\n",
       "                    1**2 * RationalQuadratic(alpha=0.1, length_scale=1),\n",
       "                    1**2 * DotProduct(sigma_0=1),\n",
       "                    1**2 * RBF(length_scale=1),\n",
       "                    1**2 * Matern(length_scale=1, nu=1.5),\n",
       "                    1**2 * RationalQuadratic(alpha=0.1, length_scale=1),\n",
       "                    1**2 * DotProduct(sigma_0=1),\n",
       "                    1**2 * RBF(length_scale=1),\n",
       "                    1**2 * Matern(length_scale=1, nu=1.5),\n",
       "                    1**2 * RationalQuadratic(alpha=0.1, length_scale=1),\n",
       "                    1**2 * DotProduct(sigma_0=1),\n",
       "                    1**2 * RBF(length_scale=1),\n",
       "                    1**2 * Matern(length_scale=1, nu=1.5),\n",
       "                    1**2 * RationalQuadratic(alpha=0.1, length_scale=1),\n",
       "                    1**2 * DotProduct(sigma_0=1),\n",
       "                    1**2 * RBF(length_scale=1),\n",
       "                    1**2 * Matern(length_scale=1, nu=1.5),\n",
       "                    1**2 * RationalQuadratic(alpha=0.1, length_scale=1),\n",
       "                    1**2 * DotProduct(sigma_0=1),\n",
       "                    1**2 * RBF(length_scale=1),\n",
       "                    1**2 * Matern(length_scale=1, nu=1.5),\n",
       "                    1**2 * RationalQuadratic(alpha=0.1, length_scale=1),\n",
       "                    1**2 * DotProduct(sigma_0=1)],\n",
       "              mask=[False, False, False, False, False, False, False, False,\n",
       "                    False, False, False, False, False, False, False, False,\n",
       "                    False, False, False, False, False, False, False, False],\n",
       "        fill_value='?',\n",
       "             dtype=object),\n",
       " 'params': [{'alpha': 1e-18, 'kernel': 1**2 * RBF(length_scale=1)},\n",
       "  {'alpha': 1e-18, 'kernel': 1**2 * Matern(length_scale=1, nu=1.5)},\n",
       "  {'alpha': 1e-18,\n",
       "   'kernel': 1**2 * RationalQuadratic(alpha=0.1, length_scale=1)},\n",
       "  {'alpha': 1e-18, 'kernel': 1**2 * DotProduct(sigma_0=1)},\n",
       "  {'alpha': 1e-06, 'kernel': 1**2 * RBF(length_scale=1)},\n",
       "  {'alpha': 1e-06, 'kernel': 1**2 * Matern(length_scale=1, nu=1.5)},\n",
       "  {'alpha': 1e-06,\n",
       "   'kernel': 1**2 * RationalQuadratic(alpha=0.1, length_scale=1)},\n",
       "  {'alpha': 1e-06, 'kernel': 1**2 * DotProduct(sigma_0=1)},\n",
       "  {'alpha': 0.0001, 'kernel': 1**2 * RBF(length_scale=1)},\n",
       "  {'alpha': 0.0001, 'kernel': 1**2 * Matern(length_scale=1, nu=1.5)},\n",
       "  {'alpha': 0.0001,\n",
       "   'kernel': 1**2 * RationalQuadratic(alpha=0.1, length_scale=1)},\n",
       "  {'alpha': 0.0001, 'kernel': 1**2 * DotProduct(sigma_0=1)},\n",
       "  {'alpha': 0.01, 'kernel': 1**2 * RBF(length_scale=1)},\n",
       "  {'alpha': 0.01, 'kernel': 1**2 * Matern(length_scale=1, nu=1.5)},\n",
       "  {'alpha': 0.01,\n",
       "   'kernel': 1**2 * RationalQuadratic(alpha=0.1, length_scale=1)},\n",
       "  {'alpha': 0.01, 'kernel': 1**2 * DotProduct(sigma_0=1)},\n",
       "  {'alpha': 0.1, 'kernel': 1**2 * RBF(length_scale=1)},\n",
       "  {'alpha': 0.1, 'kernel': 1**2 * Matern(length_scale=1, nu=1.5)},\n",
       "  {'alpha': 0.1,\n",
       "   'kernel': 1**2 * RationalQuadratic(alpha=0.1, length_scale=1)},\n",
       "  {'alpha': 0.1, 'kernel': 1**2 * DotProduct(sigma_0=1)},\n",
       "  {'alpha': 1, 'kernel': 1**2 * RBF(length_scale=1)},\n",
       "  {'alpha': 1, 'kernel': 1**2 * Matern(length_scale=1, nu=1.5)},\n",
       "  {'alpha': 1, 'kernel': 1**2 * RationalQuadratic(alpha=0.1, length_scale=1)},\n",
       "  {'alpha': 1, 'kernel': 1**2 * DotProduct(sigma_0=1)}],\n",
       " 'split0_test_score': array([-7946.21326464, -6362.47199657, -6174.39820747, -8425.71609813,\n",
       "        -7946.21328402, -6362.47199517, -6174.39819898, -8425.7160423 ,\n",
       "        -7946.21258737, -6362.47185627, -6174.39819273, -8425.70947115,\n",
       "        -7946.14518327, -6362.45799558, -6174.396974  , -8425.0544314 ,\n",
       "        -7945.53249965, -6362.33202068, -6174.38720365, -8419.11643383,\n",
       "        -7939.41366638, -6361.07384601, -6174.27983848, -8361.36468535]),\n",
       " 'split1_test_score': array([ -8072.99867047,  -6774.21120847,  -7136.42329073,  -8689.76074881,\n",
       "         -8072.99866315,  -6774.21120733,  -7136.42170084,  -8689.76064515,\n",
       "         -8072.99793836,  -6774.21108917,  -7136.42198176,  -8689.75044323,\n",
       "         -8072.92550949,  -6774.19857526,  -7136.4197331 ,  -8688.73055393,\n",
       "         -8072.26656851,  -6774.08488408,  -7136.40184055,  -8679.48256712,\n",
       "        -76322.38041752,  -6772.94972668,  -7136.22299923,  -8589.29222026]),\n",
       " 'split2_test_score': array([-5731.10427006, -4719.37551798, -4632.47236513, -8613.47391709,\n",
       "        -5731.10426363, -4719.37552104, -4632.4723944 , -8613.47382606,\n",
       "        -5731.10372937, -4719.3754178 , -4632.47236097, -8613.46299416,\n",
       "        -5731.04907344, -4719.36508315, -4632.47130009, -8612.38218626,\n",
       "        -5730.55240302, -4719.27117024, -4632.4612986 , -8602.58818552,\n",
       "        -5725.59413633, -4718.33330956, -4632.36161776, -8507.66389406]),\n",
       " 'split3_test_score': array([-5534.08493148, -4372.70276754, -4042.37771875, -8120.87784794,\n",
       "        -5534.08492901, -4372.70276657, -4042.37790368, -8120.87773959,\n",
       "        -5534.08449238, -4372.70267016, -4042.37766848, -8120.86701144,\n",
       "        -5534.04222415, -4372.69300379, -4042.37721073, -8119.79456735,\n",
       "        -5533.65788318, -4372.60518751, -4042.37290653, -8110.07299908,\n",
       "        -5529.81925971, -4371.727879  , -4042.32944562, -8015.54271905]),\n",
       " 'split4_test_score': array([-6010.74128581, -5147.46895076, -5136.57320617, -6668.86122864,\n",
       "        -6010.74128961, -5147.4689484 , -5136.57388742, -6668.86116245,\n",
       "        -6010.74087468, -5147.46885942, -5136.57305597, -6668.85460901,\n",
       "        -6010.69940206, -5147.45979484, -5136.57177448, -6668.19977597,\n",
       "        -6010.32242651, -5147.37758297, -5136.56007864, -6662.26166453,\n",
       "        -6006.5578414 , -5146.55639267, -5136.44355524, -6604.31942707]),\n",
       " 'mean_test_score': array([ -6659.02848449,  -5475.24608826,  -5424.44895765,  -8103.73796812,\n",
       "         -6659.02848588,  -5475.2460877 ,  -5424.44881706,  -8103.73788311,\n",
       "         -6659.02792443,  -5475.24597856,  -5424.44865198,  -8103.7289058 ,\n",
       "         -6658.97227848,  -5475.23489053,  -5424.44739848,  -8102.83230298,\n",
       "         -6658.46635617,  -5475.1341691 ,  -5424.43666559,  -8094.70437002,\n",
       "        -20304.75306427,  -5474.12823078,  -5424.32749127,  -8015.63658916]),\n",
       " 'std_test_score': array([ 1113.81991204,   934.75773769,  1105.75768369,   743.78604267,\n",
       "         1113.81991578,   934.75773701,  1105.75710434,   743.78603406,\n",
       "         1113.81979627,   934.75772348,  1105.75729736,   743.78485194,\n",
       "         1113.8083004 ,   934.75620174,  1105.75676887,   743.66701554,\n",
       "         1113.70366409,   934.74235978,  1105.75302081,   742.60123839,\n",
       "        28022.00964713,   934.60425959,  1105.71429012,   732.4637478 ]),\n",
       " 'rank_test_score': array([16, 12,  6, 23, 17, 11,  5, 22, 15, 10,  4, 21, 14,  9,  3, 20, 13,\n",
       "         8,  2, 19, 24,  7,  1, 18])}"
      ]
     },
     "execution_count": 6,
     "metadata": {},
     "output_type": "execute_result"
    }
   ],
   "source": [
    "# visualize the gsh.cv_results_\n",
    "gsh.cv_results_"
   ]
  },
  {
   "cell_type": "code",
   "execution_count": 14,
   "metadata": {},
   "outputs": [
    {
     "name": "stdout",
     "output_type": "stream",
     "text": [
      "{'alpha': 0.01, 'kernel': 1**2 * DotProduct(sigma_0=1)}\n",
      "{'alpha': 0.0001, 'kernel': 1**2 * DotProduct(sigma_0=1)}\n",
      "{'alpha': 1e-06, 'kernel': 1**2 * Matern(length_scale=1, nu=1.5)}\n",
      "{'alpha': 1, 'kernel': 1**2 * RationalQuadratic(alpha=0.1, length_scale=1)}\n",
      "{'alpha': 0.1, 'kernel': 1**2 * RBF(length_scale=1)}\n",
      "{'alpha': 0.0001, 'kernel': 1**2 * RationalQuadratic(alpha=0.1, length_scale=1)}\n",
      "{'alpha': 1e-06, 'kernel': 1**2 * RBF(length_scale=1)}\n",
      "{'alpha': 1, 'kernel': 1**2 * Matern(length_scale=1, nu=1.5)}\n",
      "{'alpha': 0.01, 'kernel': 1**2 * RationalQuadratic(alpha=0.1, length_scale=1)}\n",
      "{'alpha': 0.0001, 'kernel': 1**2 * Matern(length_scale=1, nu=1.5)}\n",
      "{'alpha': 1e-18, 'kernel': 1**2 * DotProduct(sigma_0=1)}\n",
      "{'alpha': 1, 'kernel': 1**2 * RBF(length_scale=1)}\n",
      "{'alpha': 0.01, 'kernel': 1**2 * Matern(length_scale=1, nu=1.5)}\n",
      "{'alpha': 0.0001, 'kernel': 1**2 * RBF(length_scale=1)}\n",
      "{'alpha': 1e-18, 'kernel': 1**2 * RationalQuadratic(alpha=0.1, length_scale=1)}\n",
      "{'alpha': 0.1, 'kernel': 1**2 * DotProduct(sigma_0=1)}\n",
      "{'alpha': 0.01, 'kernel': 1**2 * RBF(length_scale=1)}\n",
      "{'alpha': 1e-06, 'kernel': 1**2 * DotProduct(sigma_0=1)}\n",
      "{'alpha': 1e-18, 'kernel': 1**2 * Matern(length_scale=1, nu=1.5)}\n",
      "{'alpha': 0.1, 'kernel': 1**2 * RationalQuadratic(alpha=0.1, length_scale=1)}\n",
      "{'alpha': 1, 'kernel': 1**2 * DotProduct(sigma_0=1)}\n",
      "{'alpha': 1e-06, 'kernel': 1**2 * RationalQuadratic(alpha=0.1, length_scale=1)}\n",
      "{'alpha': 1e-18, 'kernel': 1**2 * RBF(length_scale=1)}\n",
      "{'alpha': 0.1, 'kernel': 1**2 * Matern(length_scale=1, nu=1.5)}\n"
     ]
    }
   ],
   "source": [
    "for i in gsh.cv_results_['rank_test_score']:\n",
    "    print(gsh.cv_results_['params'][i-1])"
   ]
  },
  {
   "cell_type": "code",
   "execution_count": 8,
   "metadata": {},
   "outputs": [
    {
     "data": {
      "text/plain": [
       "glucose         18.619099\n",
       "weight           8.595634\n",
       "insulin         80.065468\n",
       "triglyceride    34.983085\n",
       "mean            35.565821\n",
       "dtype: float64"
      ]
     },
     "execution_count": 8,
     "metadata": {},
     "output_type": "execute_result"
    }
   ],
   "source": [
    "# compute the average mean percentage error\n",
    "def mean_percentage_error(y_true, y_pred):\n",
    "    return np.mean(np.abs((y_true - y_pred) / y_true),axis=0) * 100\n",
    "\n",
    "per_err = mean_percentage_error(Y_test, Y_pred)\n",
    "# compute the mean percentage error\n",
    "per_err_mean = np.mean(per_err,axis=0)\n",
    "# merge per_err and per_err_mean as pandas dataframe\n",
    "per_err['mean'] = per_err_mean\n",
    "per_err"
   ]
  }
 ],
 "metadata": {
  "kernelspec": {
   "display_name": "py37",
   "language": "python",
   "name": "python3"
  },
  "language_info": {
   "codemirror_mode": {
    "name": "ipython",
    "version": 3
   },
   "file_extension": ".py",
   "mimetype": "text/x-python",
   "name": "python",
   "nbconvert_exporter": "python",
   "pygments_lexer": "ipython3",
   "version": "3.7.13"
  },
  "orig_nbformat": 4
 },
 "nbformat": 4,
 "nbformat_minor": 2
}
