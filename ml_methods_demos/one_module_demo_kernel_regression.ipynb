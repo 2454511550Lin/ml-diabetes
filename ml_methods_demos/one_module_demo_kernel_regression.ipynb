{
 "cells": [
  {
   "cell_type": "code",
   "execution_count": 4,
   "metadata": {},
   "outputs": [],
   "source": [
    "import pickle\n",
    "import pandas as pd\n",
    "import sklearn\n",
    "import numpy as np\n",
    "import scipy\n",
    "# load the dic file\n",
    "\n",
    "from utils import *\n",
    "\n",
    "path = 'cleaned/module_dict.pickle'\n",
    "with open(path, 'rb') as f:\n",
    "    module_dict = pickle.load(f)"
   ]
  },
  {
   "cell_type": "code",
   "execution_count": 5,
   "metadata": {},
   "outputs": [],
   "source": [
    "tissues = ['islet', 'liver', 'adipose', 'kidney', 'gastroc']\n",
    "signs = ['SIGNED', 'UNSIGNED']\n",
    "\n",
    "X_train, X_test, Y_train, Y_test = get_data('islet','SIGNED','red')"
   ]
  },
  {
   "cell_type": "code",
   "execution_count": 6,
   "metadata": {},
   "outputs": [
    {
     "data": {
      "text/plain": [
       "((441, 764), (50, 764), (441, 4), (50, 4))"
      ]
     },
     "execution_count": 6,
     "metadata": {},
     "output_type": "execute_result"
    }
   ],
   "source": [
    "# print the shape of training / testing\n",
    "X_train.shape,X_test.shape,Y_train.shape,Y_test.shape"
   ]
  },
  {
   "cell_type": "code",
   "execution_count": 8,
   "metadata": {},
   "outputs": [
    {
     "data": {
      "text/plain": [
       "{'alpha': 1,\n",
       " 'coef0': 1,\n",
       " 'degree': 3,\n",
       " 'gamma': None,\n",
       " 'kernel': 'linear',\n",
       " 'kernel_params': None}"
      ]
     },
     "execution_count": 8,
     "metadata": {},
     "output_type": "execute_result"
    }
   ],
   "source": [
    "# use sklearn knn regression method to train a model then predict\n",
    "from sklearn.kernel_ridge import KernelRidge\n",
    "from sklearn.model_selection import GridSearchCV\n",
    "\n",
    "# train a model\n",
    "rds = np.random.RandomState(0)\n",
    "model = KernelRidge() # no randomness, closed form solution\n",
    "model.get_params()"
   ]
  },
  {
   "cell_type": "code",
   "execution_count": null,
   "metadata": {},
   "outputs": [],
   "source": [
    "param_grid = [{\"kernel\": ['poly'],\n",
    "               \"alpha\": [0.1,100,1000],\n",
    "               \"gamma\": [0.1,1,10],\n",
    "               \"degree\": [2, 3, 4, 5]},\n",
    "              {\"kernel\": ['linear', 'rbf', 'sigmoid', 'laplacian'],\n",
    "               \"alpha\": [0.1,100,1000],\n",
    "               \"gamma\": [0.1,1,10],}]\n",
    "gsh = GridSearchCV(estimator=model, param_grid=param_grid)\n",
    "gsh.fit(X_train, Y_train)\n",
    "# predict\n",
    "Y_pred = gsh.predict(X_test)"
   ]
  },
  {
   "cell_type": "code",
   "execution_count": 24,
   "metadata": {},
   "outputs": [
    {
     "name": "stdout",
     "output_type": "stream",
     "text": [
      "{'alpha': 0.1, 'degree': 2, 'gamma': 0.1, 'kernel': 'poly'}\n",
      "{'alpha': 0.1, 'degree': 3, 'gamma': 10, 'kernel': 'poly'}\n",
      "{'alpha': 0.1, 'degree': 5, 'gamma': 10, 'kernel': 'poly'}\n",
      "{'alpha': 0.1, 'degree': 2, 'gamma': 1, 'kernel': 'poly'}\n",
      "{'alpha': 0.1, 'degree': 4, 'gamma': 0.1, 'kernel': 'poly'}\n",
      "{'alpha': 1000, 'degree': 2, 'gamma': 0.1, 'kernel': 'poly'}\n",
      "{'alpha': 0.1, 'degree': 3, 'gamma': 0.1, 'kernel': 'poly'}\n",
      "{'alpha': 100, 'degree': 2, 'gamma': 0.1, 'kernel': 'poly'}\n",
      "{'alpha': 0.1, 'gamma': 0.1, 'kernel': 'linear'}\n",
      "{'alpha': 0.1, 'degree': 3, 'gamma': 1, 'kernel': 'poly'}\n",
      "{'alpha': 100, 'degree': 5, 'gamma': 0.1, 'kernel': 'poly'}\n",
      "{'alpha': 0.1, 'gamma': 1, 'kernel': 'laplacian'}\n",
      "{'alpha': 100, 'degree': 4, 'gamma': 10, 'kernel': 'poly'}\n",
      "{'alpha': 0.1, 'degree': 5, 'gamma': 1, 'kernel': 'poly'}\n",
      "{'alpha': 100, 'degree': 2, 'gamma': 10, 'kernel': 'poly'}\n",
      "{'alpha': 100, 'degree': 4, 'gamma': 1, 'kernel': 'poly'}\n",
      "{'alpha': 100, 'degree': 2, 'gamma': 1, 'kernel': 'poly'}\n",
      "{'alpha': 1000, 'degree': 2, 'gamma': 1, 'kernel': 'poly'}\n",
      "{'alpha': 100, 'degree': 3, 'gamma': 10, 'kernel': 'poly'}\n",
      "{'alpha': 100, 'degree': 3, 'gamma': 1, 'kernel': 'poly'}\n",
      "{'alpha': 0.1, 'gamma': 0.1, 'kernel': 'rbf'}\n",
      "{'alpha': 100, 'degree': 3, 'gamma': 0.1, 'kernel': 'poly'}\n",
      "{'alpha': 100, 'degree': 5, 'gamma': 1, 'kernel': 'poly'}\n",
      "{'alpha': 0.1, 'gamma': 1, 'kernel': 'sigmoid'}\n",
      "{'alpha': 100, 'gamma': 0.1, 'kernel': 'rbf'}\n",
      "{'alpha': 0.1, 'gamma': 1, 'kernel': 'linear'}\n",
      "{'alpha': 100, 'degree': 4, 'gamma': 0.1, 'kernel': 'poly'}\n",
      "{'alpha': 100, 'gamma': 0.1, 'kernel': 'linear'}\n",
      "{'alpha': 1000, 'degree': 5, 'gamma': 10, 'kernel': 'poly'}\n",
      "{'alpha': 1000, 'degree': 2, 'gamma': 10, 'kernel': 'poly'}\n",
      "{'alpha': 0.1, 'gamma': 10, 'kernel': 'rbf'}\n",
      "{'alpha': 1000, 'degree': 4, 'gamma': 1, 'kernel': 'poly'}\n",
      "{'alpha': 0.1, 'gamma': 0.1, 'kernel': 'sigmoid'}\n",
      "{'alpha': 0.1, 'gamma': 10, 'kernel': 'linear'}\n",
      "{'alpha': 1000, 'degree': 4, 'gamma': 10, 'kernel': 'poly'}\n",
      "{'alpha': 0.1, 'gamma': 1, 'kernel': 'rbf'}\n",
      "{'alpha': 0.1, 'degree': 4, 'gamma': 1, 'kernel': 'poly'}\n",
      "{'alpha': 0.1, 'degree': 2, 'gamma': 10, 'kernel': 'poly'}\n",
      "{'alpha': 0.1, 'gamma': 10, 'kernel': 'sigmoid'}\n",
      "{'alpha': 1000, 'degree': 5, 'gamma': 1, 'kernel': 'poly'}\n",
      "{'alpha': 0.1, 'degree': 4, 'gamma': 1, 'kernel': 'poly'}\n",
      "{'alpha': 0.1, 'gamma': 0.1, 'kernel': 'laplacian'}\n",
      "{'alpha': 1000, 'gamma': 10, 'kernel': 'sigmoid'}\n",
      "{'alpha': 1000, 'gamma': 1, 'kernel': 'linear'}\n",
      "{'alpha': 0.1, 'degree': 4, 'gamma': 1, 'kernel': 'poly'}\n",
      "{'alpha': 1000, 'gamma': 0.1, 'kernel': 'rbf'}\n",
      "{'alpha': 1000, 'gamma': 10, 'kernel': 'laplacian'}\n",
      "{'alpha': 1000, 'gamma': 1, 'kernel': 'laplacian'}\n",
      "{'alpha': 1000, 'degree': 3, 'gamma': 1, 'kernel': 'poly'}\n",
      "{'alpha': 1000, 'degree': 5, 'gamma': 0.1, 'kernel': 'poly'}\n",
      "{'alpha': 100, 'degree': 5, 'gamma': 10, 'kernel': 'poly'}\n",
      "{'alpha': 100, 'gamma': 10, 'kernel': 'sigmoid'}\n",
      "{'alpha': 1000, 'degree': 3, 'gamma': 1, 'kernel': 'poly'}\n",
      "{'alpha': 100, 'gamma': 10, 'kernel': 'rbf'}\n",
      "{'alpha': 1000, 'degree': 3, 'gamma': 0.1, 'kernel': 'poly'}\n",
      "{'alpha': 1000, 'gamma': 1, 'kernel': 'rbf'}\n",
      "{'alpha': 1000, 'degree': 3, 'gamma': 1, 'kernel': 'poly'}\n",
      "{'alpha': 1000, 'gamma': 0.1, 'kernel': 'sigmoid'}\n",
      "{'alpha': 0.1, 'gamma': 10, 'kernel': 'laplacian'}\n",
      "{'alpha': 1000, 'gamma': 1, 'kernel': 'laplacian'}\n",
      "{'alpha': 100, 'gamma': 1, 'kernel': 'linear'}\n",
      "{'alpha': 100, 'gamma': 10, 'kernel': 'linear'}\n",
      "{'alpha': 100, 'gamma': 0.1, 'kernel': 'laplacian'}\n",
      "{'alpha': 1000, 'gamma': 0.1, 'kernel': 'linear'}\n",
      "{'alpha': 100, 'gamma': 1, 'kernel': 'linear'}\n",
      "{'alpha': 100, 'gamma': 10, 'kernel': 'laplacian'}\n",
      "{'alpha': 100, 'gamma': 0.1, 'kernel': 'sigmoid'}\n",
      "{'alpha': 1000, 'gamma': 1, 'kernel': 'sigmoid'}\n",
      "{'alpha': 100, 'gamma': 1, 'kernel': 'linear'}\n",
      "{'alpha': 1000, 'gamma': 0.1, 'kernel': 'laplacian'}\n",
      "{'alpha': 100, 'gamma': 1, 'kernel': 'laplacian'}\n",
      "{'alpha': 1000, 'gamma': 1, 'kernel': 'laplacian'}\n"
     ]
    }
   ],
   "source": [
    "# visualize the gsh.cv_results_\n",
    "rank = gsh.cv_results_['rank_test_score']\n",
    "para = gsh.cv_results_['params']\n",
    "# print para based on rank\n",
    "for i in rank:\n",
    "    print(para[int(i)-1])"
   ]
  },
  {
   "cell_type": "code",
   "execution_count": 25,
   "metadata": {},
   "outputs": [
    {
     "data": {
      "text/plain": [
       "glucose          16.245811\n",
       "weight            6.577401\n",
       "insulin         111.177375\n",
       "triglyceride     34.115043\n",
       "mean             42.028907\n",
       "dtype: float64"
      ]
     },
     "execution_count": 25,
     "metadata": {},
     "output_type": "execute_result"
    }
   ],
   "source": [
    "# compute the average mean percentage error\n",
    "def mean_percentage_error(y_true, y_pred):\n",
    "    return np.mean(np.abs((y_true - y_pred) / y_true),axis=0) * 100\n",
    "\n",
    "per_err = mean_percentage_error(Y_test, Y_pred)\n",
    "# compute the mean percentage error\n",
    "per_err_mean = np.mean(per_err,axis=0)\n",
    "# merge per_err and per_err_mean as pandas dataframe\n",
    "per_err['mean'] = per_err_mean\n",
    "per_err"
   ]
  }
 ],
 "metadata": {
  "kernelspec": {
   "display_name": "py37",
   "language": "python",
   "name": "python3"
  },
  "language_info": {
   "codemirror_mode": {
    "name": "ipython",
    "version": 3
   },
   "file_extension": ".py",
   "mimetype": "text/x-python",
   "name": "python",
   "nbconvert_exporter": "python",
   "pygments_lexer": "ipython3",
   "version": "3.7.13"
  },
  "orig_nbformat": 4
 },
 "nbformat": 4,
 "nbformat_minor": 2
}
