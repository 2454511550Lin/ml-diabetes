{
 "cells": [
  {
   "cell_type": "code",
   "execution_count": 6,
   "metadata": {},
   "outputs": [],
   "source": [
    "import pandas as pd\n",
    "import numpy as np\n",
    "# load the clean rna data\n",
    "tissues = ['islet', 'liver', 'adipose', 'kidney', 'gastroc']\n",
    "indices = []\n",
    "for t in tissues:\n",
    "    path = \"./cleaned/{}_rna.csv\".format(t)\n",
    "    df =  pd.read_csv(path, index_col=0)\n",
    "    indices.append(df.index)\n",
    "\n",
    "# get the intersection of all the indices\n",
    "rna_index = indices[0]\n",
    "for i in range(1, len(indices)):\n",
    "    rna_index = rna_index.intersection(indices[i])\n",
    "\n",
    "total = rna_index.shape[0]\n",
    "# generate the 50 random index from 0 to min of all tissues\n",
    "import random\n",
    "import pickle\n",
    "random.seed(0)\n",
    "random_index = random.sample(range(0, total), 50)\n",
    "# get the reminding index\n",
    "remaining_index = [i for i in range(0, total) if i not in random_index]"
   ]
  },
  {
   "cell_type": "code",
   "execution_count": 8,
   "metadata": {},
   "outputs": [
    {
     "data": {
      "text/plain": [
       "Index(['Mouse3610', 'Mouse3565', 'Mouse3434', 'Mouse3191', 'Mouse3589',\n",
       "       'Mouse3084', 'Mouse3563', 'Mouse3283', 'Mouse3442', 'Mouse3297',\n",
       "       'Mouse3466', 'Mouse3643', 'Mouse3447', 'Mouse3545', 'Mouse3175',\n",
       "       'Mouse3382', 'Mouse3358', 'Mouse3352', 'Mouse3564', 'Mouse3555',\n",
       "       'Mouse3658', 'Mouse3213', 'Mouse3607', 'Mouse3623', 'Mouse3197',\n",
       "       'Mouse3388', 'Mouse3448', 'Mouse3536', 'Mouse3546', 'Mouse3624',\n",
       "       'Mouse3147', 'Mouse3357', 'Mouse3245', 'Mouse3478', 'Mouse3467',\n",
       "       'Mouse3413', 'Mouse3314', 'Mouse3590', 'Mouse3249', 'Mouse3096',\n",
       "       'Mouse3304', 'Mouse3450', 'Mouse3335', 'Mouse3587', 'Mouse3493',\n",
       "       'Mouse3255', 'Mouse3094', 'Mouse3083', 'Mouse3341', 'Mouse3310'],\n",
       "      dtype='object')"
      ]
     },
     "execution_count": 8,
     "metadata": {},
     "output_type": "execute_result"
    }
   ],
   "source": [
    "test_index = rna_index[random_index]"
   ]
  },
  {
   "cell_type": "code",
   "execution_count": 11,
   "metadata": {},
   "outputs": [],
   "source": [
    "# save the testing indices\n",
    "with open('cleaned/train_test_split.pickle', 'wb') as f:\n",
    "    pickle.dump(test_index, f)"
   ]
  }
 ],
 "metadata": {
  "kernelspec": {
   "display_name": "py37",
   "language": "python",
   "name": "python3"
  },
  "language_info": {
   "codemirror_mode": {
    "name": "ipython",
    "version": 3
   },
   "file_extension": ".py",
   "mimetype": "text/x-python",
   "name": "python",
   "nbconvert_exporter": "python",
   "pygments_lexer": "ipython3",
   "version": "3.7.13"
  },
  "orig_nbformat": 4
 },
 "nbformat": 4,
 "nbformat_minor": 2
}
