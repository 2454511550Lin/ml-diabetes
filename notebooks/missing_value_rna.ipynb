{
 "cells": [
  {
   "cell_type": "code",
   "execution_count": 1,
   "metadata": {},
   "outputs": [],
   "source": [
    "from utils import *"
   ]
  },
  {
   "cell_type": "code",
   "execution_count": 7,
   "metadata": {},
   "outputs": [],
   "source": [
    "tissues = ['liver', 'adipose', 'kidney', 'gastroc']"
   ]
  },
  {
   "cell_type": "code",
   "execution_count": 8,
   "metadata": {},
   "outputs": [
    {
     "name": "stdout",
     "output_type": "stream",
     "text": [
      "Filling missing values for liver...\n",
      "Rank: 2, 1396 rows still have missing value\n",
      "Filling missing values for adipose...\n",
      "Rank: 2, 1659 rows still have missing value\n",
      "Rank: 3, 18 rows still have missing value\n",
      "Filling missing values for kidney...\n",
      "Rank: 2, 1844 rows still have missing value\n",
      "Rank: 3, 16 rows still have missing value\n",
      "Filling missing values for gastroc...\n",
      "Rank: 2, 20375 rows still have missing value\n",
      "Rank: 3, 3073 rows still have missing value\n",
      "Rank: 4, 75 rows still have missing value\n"
     ]
    }
   ],
   "source": [
    "for t in tissues:\n",
    "    print(\"Filling missing values for {}...\".format(t))\n",
    "    fill_miss_rna(t)"
   ]
  }
 ],
 "metadata": {
  "kernelspec": {
   "display_name": "oodfpr",
   "language": "python",
   "name": "python3"
  },
  "language_info": {
   "codemirror_mode": {
    "name": "ipython",
    "version": 3
   },
   "file_extension": ".py",
   "mimetype": "text/x-python",
   "name": "python",
   "nbconvert_exporter": "python",
   "pygments_lexer": "ipython3",
   "version": "3.7.13"
  },
  "orig_nbformat": 4
 },
 "nbformat": 4,
 "nbformat_minor": 2
}
