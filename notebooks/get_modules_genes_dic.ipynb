{
 "cells": [
  {
   "cell_type": "code",
   "execution_count": 1,
   "metadata": {},
   "outputs": [],
   "source": [
    "import pandas as pd\n",
    "import numpy as np"
   ]
  },
  {
   "cell_type": "code",
   "execution_count": 22,
   "metadata": {},
   "outputs": [],
   "source": [
    "# create a dictionary that first key is the module name, second key is the module name (color), value is the list of genes in that module\n",
    "def get_module_dict(module, sign):\n",
    "    path = 'raw_data/B6 BTBR F2 {} WGCNA modules {} beta12 mod10.xlsx'.format(module, sign)\n",
    "    df = pd.read_excel(path, index_col=0)\n",
    "    module_dict = {}\n",
    "    # get the module name (color), get rid of the redundant ones\n",
    "    modules = df.index.unique().to_list()\n",
    "\n",
    "    # for each modules, get the gene names\n",
    "    for module in modules:\n",
    "        # get the gene names for each module\n",
    "        module_dict[module] = df.loc[module].iloc[:,0].to_list()\n",
    "    return module_dict"
   ]
  },
  {
   "cell_type": "code",
   "execution_count": 23,
   "metadata": {},
   "outputs": [],
   "source": [
    "tissues = ['islet', 'liver', 'adipose', 'kidney', 'gastroc']\n",
    "signs = ['SIGNED', 'UNSIGNED']\n",
    "\n",
    "module_dict = {}\n",
    "for tissue in tissues:\n",
    "    for sign in signs:\n",
    "        module_dict[(tissue, sign)] = get_module_dict(tissue, sign)\n",
    "\n",
    "# save the module_dict to a pickle file\n",
    "import pickle\n",
    "with open('module_dict.pickle', 'wb') as handle:\n",
    "    pickle.dump(module_dict, handle, protocol=pickle.HIGHEST_PROTOCOL)"
   ]
  }
 ],
 "metadata": {
  "kernelspec": {
   "display_name": "py37",
   "language": "python",
   "name": "python3"
  },
  "language_info": {
   "codemirror_mode": {
    "name": "ipython",
    "version": 3
   },
   "file_extension": ".py",
   "mimetype": "text/x-python",
   "name": "python",
   "nbconvert_exporter": "python",
   "pygments_lexer": "ipython3",
   "version": "3.7.13"
  },
  "orig_nbformat": 4
 },
 "nbformat": 4,
 "nbformat_minor": 2
}
