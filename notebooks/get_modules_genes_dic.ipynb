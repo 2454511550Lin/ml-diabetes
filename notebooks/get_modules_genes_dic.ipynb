{
 "cells": [
  {
   "cell_type": "code",
   "execution_count": 1,
   "metadata": {},
   "outputs": [],
   "source": [
    "import pandas as pd\n",
    "import numpy as np\n",
    "import pickle\n",
    "\n",
    "import os\n",
    "\n",
    "# append the parental path\n",
    "import sys\n",
    "sys.path.append('..')"
   ]
  },
  {
   "cell_type": "code",
   "execution_count": 2,
   "metadata": {},
   "outputs": [],
   "source": [
    "# create a dictionary that first key is the module name, second key is the module name (color), value is the list of genes in that module\n",
    "def get_module_dict(tissue, sign):\n",
    "    # get the current working directory\n",
    "    cwd = os.getcwd()\n",
    "\n",
    "    folder = os.path.join('raw_data','B6 BTBR F2 {} WGCNA modules {} beta12 mod10.xlsx'.format(tissue, sign))\n",
    "    path = os.path.join(cwd, folder)\n",
    "\n",
    "    df = pd.read_excel(path, index_col=0)\n",
    "    module_dict = {}\n",
    "    # get the module name (color), get rid of the redundant ones\n",
    "    modules = df.index.unique().to_list()\n",
    "\n",
    "    # for each modules, get the gene names\n",
    "    for module in modules:\n",
    "        # get the gene names for each module\n",
    "        module_dict[module] = df.loc[module].iloc[:,0].to_list()\n",
    "    assert 'grey' not in modules\n",
    "\n",
    "    # get rest of the genes\n",
    "\n",
    "    folder = os.path.join('cleaned','{}_rna.csv'.format(tissue))\n",
    "    path = os.path.join(cwd, folder)\n",
    "\n",
    "    # load the csv file\n",
    "    df = pd.read_csv(path, index_col=0)\n",
    "    # get all genes first\n",
    "    all_genes = []\n",
    "    for module in module_dict:\n",
    "        all_genes += module_dict[module]\n",
    "\n",
    "    # get the unique genes\n",
    "    all_genes = set(all_genes)\n",
    "    # retirve all the genes in df\n",
    "    df_genes = set(df.columns.to_list())\n",
    "    # get the genes that are not in all the modules\n",
    "    grey_genes = df_genes.difference(all_genes)\n",
    "    module_dict['grey'] = list(grey_genes)\n",
    "\n",
    "    if sign == 'SIGNED':\n",
    "        module_dict['all'] = []\n",
    "\n",
    "    assert len(df_genes) == len(all_genes) + len(grey_genes)\n",
    "    return module_dict"
   ]
  },
  {
   "cell_type": "code",
   "execution_count": 3,
   "metadata": {},
   "outputs": [
    {
     "name": "stdout",
     "output_type": "stream",
     "text": [
      "('islet', 'SIGNED') 40\n",
      "31463\n",
      "('islet', 'UNSIGNED') 71\n",
      "31463\n",
      "('liver', 'SIGNED') 46\n",
      "31463\n",
      "('liver', 'UNSIGNED') 89\n",
      "31463\n",
      "('adipose', 'SIGNED') 59\n",
      "31463\n",
      "('adipose', 'UNSIGNED') 73\n",
      "31463\n",
      "('kidney', 'SIGNED') 58\n",
      "31463\n",
      "('kidney', 'UNSIGNED') 98\n",
      "31463\n",
      "('gastroc', 'SIGNED') 36\n",
      "31463\n",
      "('gastroc', 'UNSIGNED') 57\n",
      "31463\n"
     ]
    }
   ],
   "source": [
    "tissues = ['islet', 'liver', 'adipose', 'kidney', 'gastroc']\n",
    "signs = ['SIGNED', 'UNSIGNED']\n",
    "\n",
    "module_dict = {}\n",
    "for tissue in tissues:\n",
    "    for sign in signs:\n",
    "        module_dict[(tissue, sign)] = get_module_dict(tissue, sign)\n",
    "        \n",
    "# print the number of modules in each key pair\n",
    "for key in module_dict:\n",
    "    print(key, len(module_dict[key]))\n",
    "    # get total genes in each key pair\n",
    "    genes = []\n",
    "    total = 0\n",
    "    for module in module_dict[key]:\n",
    "        genes += module_dict[key][module]\n",
    "        total += len(module_dict[key][module])\n",
    "    print(total)\n",
    "    assert len(set(genes)) == len(genes)\n",
    "\n",
    "# save the dictionary\n",
    "with open('module_dict.pickle', 'wb') as handle:\n",
    "    pickle.dump(module_dict, handle, protocol=pickle.HIGHEST_PROTOCOL)"
   ]
  }
 ],
 "metadata": {
  "kernelspec": {
   "display_name": "py37",
   "language": "python",
   "name": "python3"
  },
  "language_info": {
   "codemirror_mode": {
    "name": "ipython",
    "version": 3
   },
   "file_extension": ".py",
   "mimetype": "text/x-python",
   "name": "python",
   "nbconvert_exporter": "python",
   "pygments_lexer": "ipython3",
   "version": "3.7.13"
  },
  "orig_nbformat": 4
 },
 "nbformat": 4,
 "nbformat_minor": 2
}
