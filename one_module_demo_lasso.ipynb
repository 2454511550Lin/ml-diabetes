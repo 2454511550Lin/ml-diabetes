{
 "cells": [
  {
   "cell_type": "code",
   "execution_count": 1,
   "metadata": {},
   "outputs": [],
   "source": [
    "import pickle\n",
    "import pandas as pd\n",
    "import sklearn\n",
    "import numpy as np\n",
    "import scipy\n",
    "# load the dic file\n",
    "\n",
    "from utils import *\n",
    "\n",
    "path = 'cleaned/module_dict.pickle'\n",
    "with open(path, 'rb') as f:\n",
    "    module_dict = pickle.load(f)"
   ]
  },
  {
   "cell_type": "code",
   "execution_count": 2,
   "metadata": {},
   "outputs": [],
   "source": [
    "tissues = ['islet', 'liver', 'adipose', 'kidney', 'gastroc']\n",
    "signs = ['SIGNED', 'UNSIGNED']"
   ]
  },
  {
   "cell_type": "code",
   "execution_count": 3,
   "metadata": {},
   "outputs": [],
   "source": [
    "X_train, X_test, Y_train, Y_test = get_data('islet','SIGNED','red')"
   ]
  },
  {
   "cell_type": "code",
   "execution_count": 4,
   "metadata": {},
   "outputs": [
    {
     "data": {
      "text/plain": [
       "((441, 764), (50, 764), (441, 4), (50, 4))"
      ]
     },
     "execution_count": 4,
     "metadata": {},
     "output_type": "execute_result"
    }
   ],
   "source": [
    "# print the shape of training / testing\n",
    "X_train.shape,X_test.shape,Y_train.shape,Y_test.shape"
   ]
  },
  {
   "cell_type": "code",
   "execution_count": 5,
   "metadata": {},
   "outputs": [
    {
     "data": {
      "text/plain": [
       "{'alpha': 1.0,\n",
       " 'copy_X': True,\n",
       " 'fit_intercept': True,\n",
       " 'max_iter': 3000,\n",
       " 'normalize': 'deprecated',\n",
       " 'positive': False,\n",
       " 'precompute': False,\n",
       " 'random_state': RandomState(MT19937) at 0x207C04CC6A8,\n",
       " 'selection': 'random',\n",
       " 'tol': 0.0005,\n",
       " 'warm_start': False}"
      ]
     },
     "execution_count": 5,
     "metadata": {},
     "output_type": "execute_result"
    }
   ],
   "source": [
    "# use sklearn knn regression method to train a model then predict\n",
    "from sklearn.linear_model import Lasso\n",
    "from sklearn.model_selection import GridSearchCV\n",
    "\n",
    "# train a model\n",
    "rds = np.random.RandomState(0)\n",
    "model = Lasso(random_state=rds,selection='random',max_iter=3000,tol=0.0005)\n",
    "model.get_params()"
   ]
  },
  {
   "cell_type": "code",
   "execution_count": 6,
   "metadata": {},
   "outputs": [],
   "source": [
    "alpha= [0.1,1,10,100,1000,5000,10000]\n",
    "param_grid = {\"alpha\": alpha}\n",
    "gsh = GridSearchCV(estimator=model, param_grid=param_grid)\n",
    "gsh.fit(X_train, Y_train)\n",
    "# predict\n",
    "Y_pred = gsh.predict(X_test)"
   ]
  },
  {
   "cell_type": "code",
   "execution_count": 7,
   "metadata": {},
   "outputs": [
    {
     "data": {
      "text/plain": [
       "{'mean_fit_time': array([0.07909651, 0.0211587 , 0.01650391, 0.01681495, 0.01720343,\n",
       "        0.01670213, 0.01470771]),\n",
       " 'std_fit_time': array([0.01881996, 0.00254459, 0.00126798, 0.00146672, 0.00147297,\n",
       "        0.00107518, 0.00124481]),\n",
       " 'mean_score_time': array([0.00540476, 0.00580063, 0.00540886, 0.00601039, 0.00530562,\n",
       "        0.00600591, 0.00620413]),\n",
       " 'std_score_time': array([0.00101931, 0.00074761, 0.00102159, 0.00089606, 0.00074744,\n",
       "        0.00063046, 0.00147383]),\n",
       " 'param_alpha': masked_array(data=[0.1, 1, 10, 100, 1000, 5000, 10000],\n",
       "              mask=[False, False, False, False, False, False, False],\n",
       "        fill_value='?',\n",
       "             dtype=object),\n",
       " 'params': [{'alpha': 0.1},\n",
       "  {'alpha': 1},\n",
       "  {'alpha': 10},\n",
       "  {'alpha': 100},\n",
       "  {'alpha': 1000},\n",
       "  {'alpha': 5000},\n",
       "  {'alpha': 10000}],\n",
       " 'split0_test_score': array([ 0.34624739,  0.17083073, -0.02782018, -0.02782018, -0.02782018,\n",
       "        -0.02782018, -0.02782018]),\n",
       " 'split1_test_score': array([ 0.43770964,  0.1595113 , -0.04606707, -0.04606707, -0.04606707,\n",
       "        -0.04606707, -0.04606707]),\n",
       " 'split2_test_score': array([ 0.31323576,  0.13163575, -0.03150676, -0.03150676, -0.03150676,\n",
       "        -0.03150676, -0.03150676]),\n",
       " 'split3_test_score': array([ 0.26527581,  0.12652697, -0.0723665 , -0.0723665 , -0.0723665 ,\n",
       "        -0.0723665 , -0.0723665 ]),\n",
       " 'split4_test_score': array([ 0.37408488,  0.18430808, -0.03381464, -0.03381464, -0.03381464,\n",
       "        -0.03381464, -0.03381464]),\n",
       " 'mean_test_score': array([ 0.3473107 ,  0.15456257, -0.04231503, -0.04231503, -0.04231503,\n",
       "        -0.04231503, -0.04231503]),\n",
       " 'std_test_score': array([0.05793234, 0.02229606, 0.01622557, 0.01622557, 0.01622557,\n",
       "        0.01622557, 0.01622557]),\n",
       " 'rank_test_score': array([1, 2, 3, 3, 3, 3, 3])}"
      ]
     },
     "execution_count": 7,
     "metadata": {},
     "output_type": "execute_result"
    }
   ],
   "source": [
    "# visualize the gsh.cv_results_\n",
    "gsh.cv_results_"
   ]
  },
  {
   "cell_type": "code",
   "execution_count": 8,
   "metadata": {},
   "outputs": [
    {
     "data": {
      "text/plain": [
       "glucose          14.736174\n",
       "weight            9.627620\n",
       "insulin         104.858906\n",
       "triglyceride     33.088744\n",
       "mean             40.577861\n",
       "dtype: float64"
      ]
     },
     "execution_count": 8,
     "metadata": {},
     "output_type": "execute_result"
    }
   ],
   "source": [
    "# compute the average mean percentage error\n",
    "def mean_percentage_error(y_true, y_pred):\n",
    "    return np.mean(np.abs((y_true - y_pred) / y_true),axis=0) * 100\n",
    "\n",
    "per_err = mean_percentage_error(Y_test, Y_pred)\n",
    "# compute the mean percentage error\n",
    "per_err_mean = np.mean(per_err,axis=0)\n",
    "# merge per_err and per_err_mean as pandas dataframe\n",
    "per_err['mean'] = per_err_mean\n",
    "per_err"
   ]
  }
 ],
 "metadata": {
  "kernelspec": {
   "display_name": "py37",
   "language": "python",
   "name": "python3"
  },
  "language_info": {
   "codemirror_mode": {
    "name": "ipython",
    "version": 3
   },
   "file_extension": ".py",
   "mimetype": "text/x-python",
   "name": "python",
   "nbconvert_exporter": "python",
   "pygments_lexer": "ipython3",
   "version": "3.7.13"
  },
  "orig_nbformat": 4
 },
 "nbformat": 4,
 "nbformat_minor": 2
}
